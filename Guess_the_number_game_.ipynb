{
  "nbformat": 4,
  "nbformat_minor": 0,
  "metadata": {
    "colab": {
      "provenance": []
    },
    "kernelspec": {
      "name": "python3",
      "display_name": "Python 3"
    },
    "language_info": {
      "name": "python"
    }
  },
  "cells": [
    {
      "cell_type": "code",
      "source": [
        "import math\n",
        "import random\n",
        "\n",
        "min= int(input('Enter minimum limit : '))\n",
        "max= int(input('Enter maximum limit : '))\n",
        "store= random.randint(min, max)\n",
        "print('\\n\\tyou have only', round (math.log(max - min+ 1,2) ),'chances to guess the integer\\n')\n",
        "sum= 0\n",
        "\n",
        "while sum < math.log(max- min + 1, 2) :\n",
        "  sum=sum+1\n",
        "  guess = int(input('guess a number : '))\n",
        "  \n",
        "  if store < guess:\n",
        "    print(\"you guessed too high\")  \n",
        "  \n",
        "  if store == guess:\n",
        "    print(\"Congratulations! the ans is correct.You did it in\",sum, \"try.\")\n",
        "    break\n",
        "  \n",
        "  if store> guess:\n",
        "    print(\"you guessed too small\")\n",
        "  \n",
        "if sum >= math.log(max - min + 1, 2) :\n",
        "  print(\"\\nThe correct number is\", store)"
      ],
      "metadata": {
        "colab": {
          "base_uri": "https://localhost:8080/"
        },
        "id": "lZT3gqJImPmH",
        "outputId": "04beee04-3015-406e-c9d0-7c2cb0b7989f"
      },
      "execution_count": 9,
      "outputs": [
        {
          "output_type": "stream",
          "name": "stdout",
          "text": [
            "Enter minimum limit : 130\n",
            "Enter maximum limit : 170\n",
            "\n",
            "\tyou have only 5 chances to guess the integer\n",
            "\n",
            "guess a number : 160\n",
            "you guessed too high\n",
            "guess a number : 150\n",
            "you guessed too high\n",
            "guess a number : 140\n",
            "you guessed too small\n",
            "guess a number : 145\n",
            "you guessed too small\n",
            "guess a number : 148\n",
            "Congratulations! the ans is correct.You did it in 5 try.\n"
          ]
        }
      ]
    }
  ]
}