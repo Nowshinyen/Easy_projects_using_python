{
  "nbformat": 4,
  "nbformat_minor": 0,
  "metadata": {
    "colab": {
      "provenance": []
    },
    "kernelspec": {
      "name": "python3",
      "display_name": "Python 3"
    },
    "language_info": {
      "name": "python"
    }
  },
  "cells": [
    {
      "cell_type": "code",
      "source": [
        "import random\n",
        "\n",
        "print(\"rules of this game:\") \n",
        "print(\"Paper vs Scissors -> Scissors wins\")\n",
        "print(\"Rock vs Scissors -> Rock wins\")\n",
        "print(\"Rock vs Paper -> Paper wins\")\n",
        "print(\"------------------------------------\")\n",
        "\n",
        "print(\"Enter 1 to choose Rock\")\n",
        "print(\"Enter 2 to choose Paper\")\n",
        "print(\"Enter 3 to choose Scissors\")\n",
        "print(\"------------------------------------\")\n",
        "\n",
        "      \n",
        "\n",
        "choice = int(input(\"Enter your choice:\"))\n",
        "while choice < 1 or choice > 3 :\n",
        "  choice = int(input('Enter a valid choice:'))\n",
        "\n",
        "if choice == 1 :\n",
        "  name = 'Rock'\n",
        "if choice == 2 :\n",
        "  name = 'Paper'\n",
        "if choice == 3 :\n",
        "  name = 'Scissors'\n",
        "\n",
        "\n",
        "print('Your choice is', name)\n",
        "print('Now it\\'s Computer\\'s Turn !!!!!!!!!')\n",
        "pc_choice = random.randint(1, 3)\n",
        "\n",
        "while pc_choice == choice:\n",
        "  pc_choice = random.randint(1, 3)\n",
        "\n",
        "if pc_choice == 1 :\n",
        "  pc_choice_name = 'Rock'\n",
        "elif pc_choice == 2 :\n",
        "  pc_choice_name = 'Paper'\n",
        "else:\n",
        "  pc_choice_name = 'Scissors'\n",
        "\n",
        "\n",
        "print(\"Computer choice is\", pc_choice_name)\n",
        "print(name, 'Vs', pc_choice_name)\n",
        "print(\"------------------------------------\")\n",
        "\n",
        "if (choice == 1 and pc_choice == 3) or (choice == 3 and pc_choice == 1) :\n",
        "  print('Rock wins =>', end=\"\")\n",
        "  result = 'Rock'\n",
        "\n",
        "if (choice == 1 and pc_choice == 2) or (choice == 2 and pc_choice == 1) :\n",
        "  print('Paper wins =>', end=\"\")\n",
        "  result = 'Paper'\n",
        "\n",
        "if (choice == 2 and pc_choice == 3) or (choice == 3 and pc_choice == 2) :\n",
        "  print('Scissors wins =>', end=\"\")\n",
        "  result = 'Scissors'\n",
        "\n",
        "if choice == pc_choice:\n",
        "  print('It\\'s a draw')\n",
        "  result = \"draw\"\n",
        "#-----------------------------\n",
        "if result == 'draw':\n",
        "  print(\" It's a tie \")\n",
        "elif result == name:\n",
        "  print(\" User wins \")\n",
        "\n",
        "else:\n",
        "  print(\" Computer wins \")\n"
      ],
      "metadata": {
        "colab": {
          "base_uri": "https://localhost:8080/"
        },
        "id": "WslmUj-k0Xvj",
        "outputId": "22cc8a23-9625-4a78-c603-1a2807d47257"
      },
      "execution_count": 6,
      "outputs": [
        {
          "output_type": "stream",
          "name": "stdout",
          "text": [
            "rules of this game:\n",
            "Paper vs Scissors -> Scissors wins\n",
            "Rock vs Scissors -> Rock wins\n",
            "Rock vs Paper -> Paper wins\n",
            "------------------------------------\n",
            "Enter 1 to choose Rock\n",
            "Enter 2 to choose Paper\n",
            "Enter 3 to choose Scissors\n",
            "------------------------------------\n",
            "Enter your choice:2\n",
            "Your choice is Paper\n",
            "Now it's Computer's Turn !!!!!!!!!\n",
            "Computer choice is Scissors\n",
            "Paper Vs Scissors\n",
            "------------------------------------\n",
            "Scissors wins => Computer wins \n"
          ]
        }
      ]
    }
  ]
}